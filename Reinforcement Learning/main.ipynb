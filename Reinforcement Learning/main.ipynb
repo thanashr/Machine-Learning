{
  "nbformat": 4,
  "nbformat_minor": 0,
  "metadata": {
    "colab": {
      "name": "main.ipynb",
      "provenance": [],
      "collapsed_sections": []
    },
    "kernelspec": {
      "display_name": "Python 3",
      "language": "python",
      "name": "python3"
    },
    "language_info": {
      "codemirror_mode": {
        "name": "ipython",
        "version": 3
      },
      "file_extension": ".py",
      "mimetype": "text/x-python",
      "name": "python",
      "nbconvert_exporter": "python",
      "pygments_lexer": "ipython3",
      "version": "3.6.5"
    }
  },
  "cells": [
    {
      "cell_type": "code",
      "metadata": {
        "colab_type": "code",
        "id": "M_PLd07ie8k1",
        "colab": {}
      },
      "source": [
        "#######################################################################\n",
        "# Authors:\n",
        "# Nathan Margaglio (nathanmargaglio@gmail.com)                                                          \n",
        "# Mihir Hemant Chauhan (mihirhem@buffalo.edu)                       \n",
        "# Qian Cheng (qcheng2@buffalo.edu)                            \n",
        "#######################################################################\n",
        "import numpy as np\n",
        "import matplotlib.pyplot as plt\n",
        "import gym\n",
        "import gym.spaces\n",
        "import time\n",
        "import copy\n",
        "import threading\n",
        "import time\n",
        "import collections"
      ],
      "execution_count": 0,
      "outputs": []
    },
    {
      "cell_type": "code",
      "metadata": {
        "colab_type": "code",
        "id": "1KZhxOunpbNp",
        "colab": {}
      },
      "source": [
        "class GridEnvironment(gym.Env):\n",
        "    metadata = { 'render.modes': ['human'] }\n",
        "    \n",
        "    def __init__(self, normalize=False, size=4):\n",
        "        self.observation_space = gym.spaces.Box(0, size, (size,))\n",
        "        self.action_space = gym.spaces.Discrete(4)\n",
        "        self.max_timesteps = size*2 + 1\n",
        "        self.normalize = normalize\n",
        "        self.size = size\n",
        "\n",
        "        # Generate State Transition Table\n",
        "        self.transition_matrix = []\n",
        "        for x in range(size + 1):\n",
        "            state_x = []\n",
        "            for y in range(size + 1):\n",
        "                state_y = []\n",
        "                for a in range(4):\n",
        "                    one_hot = np.zeros(4)\n",
        "                    one_hot[a] = 1\n",
        "                    state_y.append(one_hot)\n",
        "                state_x.append(state_y)\n",
        "            self.transition_matrix.append(state_x)\n",
        "        \n",
        "    def transition_func(self, x, y, action, return_probs=False):\n",
        "        probs = self.transition_matrix[x][y][action]\n",
        "        if return_probs:\n",
        "            return probs\n",
        "        else:\n",
        "            return np.random.choice(len(probs), p=probs)\n",
        "\n",
        "    def _get_distance(self, x, y):\n",
        "        return abs(x[0] - y[0]) + abs(x[1] - y[1])\n",
        "        \n",
        "    def reset(self):\n",
        "        self.timestep = 0\n",
        "        self.agent_pos = [0, 0]\n",
        "        self.goal_pos = [self.size, self.size]\n",
        "        self.state = np.zeros((self.size + 1, self.size + 1))\n",
        "        self.state[tuple(self.agent_pos)] = 1\n",
        "        self.state[tuple(self.goal_pos)] = 0.5\n",
        "        self.prev_distance = self._get_distance(self.agent_pos, self.goal_pos)\n",
        "        return np.array(self.agent_pos)/1.\n",
        "    \n",
        "    def step(self, action):\n",
        "        action_taken = self.transition_func(self.agent_pos[0], self.agent_pos[1], action)\n",
        "        self.state = np.random.choice(self.observation_space.shape[0])\n",
        "        if action_taken == 0:\n",
        "            self.agent_pos[0] += 1\n",
        "        if action_taken == 1:\n",
        "            self.agent_pos[0] -= 1\n",
        "        if action_taken == 2:\n",
        "            self.agent_pos[1] += 1\n",
        "        if action_taken == 3:\n",
        "            self.agent_pos[1] -= 1\n",
        "          \n",
        "        self.agent_pos = np.clip(self.agent_pos, 0, self.size)\n",
        "        self.state = np.zeros((self.size + 1, self.size + 1))\n",
        "        self.state[tuple(self.agent_pos)] = 1\n",
        "        self.state[tuple(self.goal_pos)] = 0.5\n",
        "        \n",
        "        current_distance = self._get_distance(self.agent_pos, self.goal_pos)\n",
        "        if current_distance < self.prev_distance:\n",
        "            reward = 1\n",
        "        elif current_distance > self.prev_distance:\n",
        "            reward = -1\n",
        "        else:\n",
        "            reward = -1\n",
        "        self.prev_distance = current_distance\n",
        "        \n",
        "        self.timestep += 1\n",
        "        if self.timestep >= self.max_timesteps or current_distance == 0:\n",
        "            done = True\n",
        "        else:\n",
        "            done = False\n",
        "        info = {}\n",
        "        \n",
        "        obs = self.agent_pos\n",
        "        if self.normalize:\n",
        "            obs = obs/self.size\n",
        "        return obs, reward, done, info\n",
        "        \n",
        "    def render(self, mode='human'):\n",
        "        plt.imshow(self.state)"
      ],
      "execution_count": 0,
      "outputs": []
    },
    {
      "cell_type": "code",
      "metadata": {
        "colab_type": "code",
        "id": "hy2YHvlNe8lW",
        "colab": {
          "base_uri": "https://localhost:8080/",
          "height": 265
        },
        "outputId": "e8faf919-fec0-425a-9c7e-b6818c49d193"
      },
      "source": [
        "env = GridEnvironment()\n",
        "obs = env.reset()\n",
        "env.render()"
      ],
      "execution_count": 3,
      "outputs": [
        {
          "output_type": "display_data",
          "data": {
            "image/png": "[encoded data removed]",
            "text/plain": [
              "<Figure size 432x288 with 1 Axes>"
            ]
          },
          "metadata": {
            "tags": []
          }
        }
      ]
    },
    {
      "cell_type": "code",
      "metadata": {
        "colab_type": "code",
        "id": "z9XqqwQtFr8k",
        "colab": {}
      },
      "source": [
        "class RandomAgent:\n",
        "    def __init__(self, env):\n",
        "        self.env = env\n",
        "        self.observation_space = env.observation_space\n",
        "        self.action_space = env.action_space\n",
        "\n",
        "    def policy(self, observation):\n",
        "        return np.random.choice(self.action_space.n)\n",
        "        \n",
        "    def step(self, observation, verbose=False):\n",
        "        return self.policy(observation)"
      ],
      "execution_count": 0,
      "outputs": []
    },
    {
      "cell_type": "code",
      "metadata": {
        "colab_type": "code",
        "id": "0S5tBBqfF-s3",
        "colab": {
          "base_uri": "https://localhost:8080/",
          "height": 1000
        },
        "outputId": "6681d6fd-7092-45a5-bdaa-3082b79cf3ed"
      },
      "source": [
        "env = GridEnvironment(normalize=True)\n",
        "agent = RandomAgent(env)\n",
        "\n",
        "obs = env.reset()\n",
        "done = False\n",
        "agent.epsilon = 0\n",
        "env.render()\n",
        "plt.show()\n",
        "\n",
        "while not done:\n",
        "    action = agent.step(obs, verbose=True)\n",
        "    obs, reward, done, info = env.step(action)\n",
        "    env.render()\n",
        "    plt.show()"
      ],
      "execution_count": 5,
      "outputs": [
        {
          "output_type": "display_data",
          "data": {
            "image/png": "[encoded data removed]",
            "text/plain": [
              "<Figure size 432x288 with 1 Axes>"
            ]
          },
          "metadata": {
            "tags": []
          }
        },
        {
          "output_type": "display_data",
          "data": {
            "image/png": "[encoded data removed]",
            "text/plain": [
              "<Figure size 432x288 with 1 Axes>"
            ]
          },
          "metadata": {
            "tags": []
          }
        },
        {
          "output_type": "display_data",
          "data": {
            "image/png": "[encoded data removed]",
            "text/plain": [
              "<Figure size 432x288 with 1 Axes>"
            ]
          },
          "metadata": {
            "tags": []
          }
        },
        {
          "output_type": "display_data",
          "data": {
            "image/png": "[encoded data removed]",
            "text/plain": [
              "<Figure size 432x288 with 1 Axes>"
            ]
          },
          "metadata": {
            "tags": []
          }
        },
        {
          "output_type": "display_data",
          "data": {
            "image/png": "[encoded data removed]",
            "text/plain": [
              "<Figure size 432x288 with 1 Axes>"
            ]
          },
          "metadata": {
            "tags": []
          }
        },
        {
          "output_type": "display_data",
          "data": {
            "image/png": "[encoded data removed]",
            "text/plain": [
              "<Figure size 432x288 with 1 Axes>"
            ]
          },
          "metadata": {
            "tags": []
          }
        },
        {
          "output_type": "display_data",
          "data": {
            "image/png": "[encoded data removed]",
            "text/plain": [
              "<Figure size 432x288 with 1 Axes>"
            ]
          },
          "metadata": {
            "tags": []
          }
        },
        {
          "output_type": "display_data",
          "data": {
            "image/png": "[encoded data removed]",
            "text/plain": [
              "<Figure size 432x288 with 1 Axes>"
            ]
          },
          "metadata": {
            "tags": []
          }
        },
        {
          "output_type": "display_data",
          "data": {
            "image/png": "[encoded data removed]",
            "text/plain": [
              "<Figure size 432x288 with 1 Axes>"
            ]
          },
          "metadata": {
            "tags": []
          }
        },
        {
          "output_type": "display_data",
          "data": {
            "image/png": "[encoded data removed]",
            "text/plain": [
              "<Figure size 432x288 with 1 Axes>"
            ]
          },
          "metadata": {
            "tags": []
          }
        }
      ]
    },
    {
      "cell_type": "code",
      "metadata": {
        "colab_type": "code",
        "id": "aVGLhrTG0yQp",
        "colab": {}
      },
      "source": [
        "class HeuristicAgent:\n",
        "    def __init__(self, env):\n",
        "        self.env = env\n",
        "        self.observation_space = env.observation_space\n",
        "        self.action_space = env.action_space\n",
        "\n",
        "    def policy(self, observation):\n",
        "        # 0 - down\n",
        "        # 1 - up\n",
        "        # 2 - right\n",
        "        # 3 - left\n",
        "        if (observation[0] < 1.):\n",
        "            return 0\n",
        "        if (observation[1] < 1.):\n",
        "            return 2\n",
        "        return 0\n",
        "        \n",
        "    def step(self, observation, verbose=False):\n",
        "        if verbose:\n",
        "            print(observation)\n",
        "        return self.policy(observation)"
      ],
      "execution_count": 0,
      "outputs": []
    },
    {
      "cell_type": "code",
      "metadata": {
        "colab_type": "code",
        "id": "kZGSRSzo07v-",
        "colab": {
          "base_uri": "https://localhost:8080/",
          "height": 1000
        },
        "outputId": "b80452a8-b11e-4bcc-d6bb-30289dbc63f6"
      },
      "source": [
        "env = GridEnvironment(normalize=True)\n",
        "agent = HeuristicAgent(env)\n",
        "\n",
        "obs = env.reset()\n",
        "done = False\n",
        "agent.epsilon = 0\n",
        "env.render()\n",
        "plt.show()\n",
        "\n",
        "while not done:\n",
        "    action = agent.step(obs, verbose=True)\n",
        "    obs, reward, done, info = env.step(action)\n",
        "    env.render()\n",
        "    plt.show()"
      ],
      "execution_count": 7,
      "outputs": [
        {
          "output_type": "display_data",
          "data": {
            "image/png": "[encoded data removed]",
            "text/plain": [
              "<Figure size 432x288 with 1 Axes>"
            ]
          },
          "metadata": {
            "tags": []
          }
        },
        {
          "output_type": "stream",
          "text": [
            "[0. 0.]\n"
          ],
          "name": "stdout"
        },
        {
          "output_type": "display_data",
          "data": {
            "image/png": "[encoded data removed]",
            "text/plain": [
              "<Figure size 432x288 with 1 Axes>"
            ]
          },
          "metadata": {
            "tags": []
          }
        },
        {
          "output_type": "stream",
          "text": [
            "[0.25 0.  ]\n"
          ],
          "name": "stdout"
        },
        {
          "output_type": "display_data",
          "data": {
            "image/png": "[encoded data removed]",
            "text/plain": [
              "<Figure size 432x288 with 1 Axes>"
            ]
          },
          "metadata": {
            "tags": []
          }
        },
        {
          "output_type": "stream",
          "text": [
            "[0.5 0. ]\n"
          ],
          "name": "stdout"
        },
        {
          "output_type": "display_data",
          "data": {
            "image/png": "[encoded data removed]",
            "text/plain": [
              "<Figure size 432x288 with 1 Axes>"
            ]
          },
          "metadata": {
            "tags": []
          }
        },
        {
          "output_type": "stream",
          "text": [
            "[0.75 0.  ]\n"
          ],
          "name": "stdout"
        },
        {
          "output_type": "display_data",
          "data": {
            "image/png": "[encoded data removed]",
            "text/plain": [
              "<Figure size 432x288 with 1 Axes>"
            ]
          },
          "metadata": {
            "tags": []
          }
        },
        {
          "output_type": "stream",
          "text": [
            "[1. 0.]\n"
          ],
          "name": "stdout"
        },
        {
          "output_type": "display_data",
          "data": {
            "image/png": "[encoded data removed]",
            "text/plain": [
              "<Figure size 432x288 with 1 Axes>"
            ]
          },
          "metadata": {
            "tags": []
          }
        },
        {
          "output_type": "stream",
          "text": [
            "[1.   0.25]\n"
          ],
          "name": "stdout"
        },
        {
          "output_type": "display_data",
          "data": {
            "image/png": "[encoded data removed]",
            "text/plain": [
              "<Figure size 432x288 with 1 Axes>"
            ]
          },
          "metadata": {
            "tags": []
          }
        },
        {
          "output_type": "stream",
          "text": [
            "[1.  0.5]\n"
          ],
          "name": "stdout"
        },
        {
          "output_type": "display_data",
          "data": {
            "image/png": "[encoded data removed]",
            "text/plain": [
              "<Figure size 432x288 with 1 Axes>"
            ]
          },
          "metadata": {
            "tags": []
          }
        },
        {
          "output_type": "stream",
          "text": [
            "[1.   0.75]\n"
          ],
          "name": "stdout"
        },
        {
          "output_type": "display_data",
          "data": {
            "image/png": "[encoded data removed]",
            "text/plain": [
              "<Figure size 432x288 with 1 Axes>"
            ]
          },
          "metadata": {
            "tags": []
          }
        }
      ]
    },
    {
      "cell_type": "code",
      "metadata": {
        "colab_type": "code",
        "id": "l88irSuqe8lf",
        "colab": {}
      },
      "source": [
        "class QLearningAgent:\n",
        "    def __init__(self, env, epsilon=1.0, lr=0.1, gamma=0.9):\n",
        "        self.env = env\n",
        "        self.observation_space = env.observation_space\n",
        "        self.action_space = env.action_space\n",
        "        q_table_dim = env.observation_space.shape[0] + 1\n",
        "        self.q_table = np.zeros((q_table_dim, q_table_dim, env.action_space.n))\n",
        "        self.epsilon = epsilon\n",
        "        self.lr = lr\n",
        "        self.gamma = gamma\n",
        "\n",
        "    def policy(self, observation):\n",
        "      # Code for policy (Task 1) (30 points)      \n",
        "      observation = observation.astype(int)\n",
        "      if np.random.random() <= self.epsilon:\n",
        "          return self.env.action_space.sample()\n",
        "      else:\n",
        "          return np.argmax(self.q_table[tuple(observation)])\n",
        "       \n",
        "       \n",
        "        \n",
        "    def step(self, observation):\n",
        "      return self.policy(observation)\n",
        "        \n",
        "    def update(self, state, action, reward, next_state):\n",
        "        state = state.astype(int)\n",
        "        next_state = next_state.astype(int)\n",
        "        self.q_table[state[0]][state[1]][action] = (1 -self.lr)*self.q_table[state[0]][state[1]][action] + self.lr *(reward + self.gamma*np.max(self.q_table[next_state[0]][next_state[1]][action]))\n",
        "        \n",
        "    def set_epsilon(self, epsilon):\n",
        "        self.epsilon = epsilon"
      ],
      "execution_count": 0,
      "outputs": []
    },
    {
      "cell_type": "code",
      "metadata": {
        "colab_type": "code",
        "id": "2SDbl2Kue8lk",
        "colab": {}
      },
      "source": [
        "env = GridEnvironment() # note: we do not normalize\n",
        "agent = QLearningAgent(env)\n",
        "episodes = 1000 # number of games we want the agent to play\n",
        "delta_epsilon = agent.epsilon/episodes\n",
        "\n",
        "total_rewards = []\n",
        "epsilons = [agent.epsilon]\n",
        "\n",
        "# Training Process (Task 3) (20 points)\n",
        "max_steps_per_episode = 100\n",
        "for episode in range(episodes):\n",
        "  state = env.reset()\n",
        "  done = False\n",
        "  rewards_current_episode = 0\n",
        "  min_epsilon = 0\n",
        "  max_epsilon = 1\n",
        "  #for step in range(max_steps_per_episode): \n",
        "  while not done:\n",
        "    # threshold = np.random.uniform(0,1)\n",
        "    action = agent.policy(state)\n",
        "    obs, reward, done, info = env.step(action)\n",
        "    agent.update(state,action,reward,obs)\n",
        "    state = obs.copy()\n",
        "    rewards_current_episode += reward\n",
        "    epsilon = min_epsilon +(max_epsilon - min_epsilon)*np.exp(-delta_epsilon*episode)\n",
        "    agent.set_epsilon(epsilon) #\n",
        "    epsilons.append(agent.epsilon) #doubt\n",
        "    \n",
        "\n",
        "\n",
        "  total_rewards.append(rewards_current_episode)    \n",
        "  "
      ],
      "execution_count": 0,
      "outputs": []
    },
    {
      "cell_type": "code",
      "metadata": {
        "colab_type": "code",
        "id": "q137fw4je8ln",
        "colab": {
          "base_uri": "https://localhost:8080/",
          "height": 297
        },
        "outputId": "df3716dd-b770-4291-b490-280adf767850"
      },
      "source": [
        "plt.xlabel('Episode')\n",
        "plt.ylabel('$\\epsilon$')\n",
        "plt.plot(epsilons)"
      ],
      "execution_count": 17,
      "outputs": [
        {
          "output_type": "execute_result",
          "data": {
            "text/plain": [
              "[<matplotlib.lines.Line2D at 0x7f1428e282e8>]"
            ]
          },
          "metadata": {
            "tags": []
          },
          "execution_count": 17
        },
        {
          "output_type": "display_data",
          "data": {
            "image/png": "[encoded data removed]",
            "text/plain": [
              "<Figure size 432x288 with 1 Axes>"
            ]
          },
          "metadata": {
            "tags": []
          }
        }
      ]
    },
    {
      "cell_type": "code",
      "metadata": {
        "colab_type": "code",
        "id": "Raqojkywe8ls",
        "colab": {
          "base_uri": "https://localhost:8080/",
          "height": 297
        },
        "outputId": "7d1e06ca-392d-457c-c2e2-d902e9d84091"
      },
      "source": [
        "window = 10\n",
        "plt.xlabel('Episode')\n",
        "plt.ylabel('Total Reward (SMA 10)')\n",
        "plt.plot([np.mean(total_rewards[tr:tr+window]) for tr in range(window, len(total_rewards))])"
      ],
      "execution_count": 18,
      "outputs": [
        {
          "output_type": "execute_result",
          "data": {
            "text/plain": [
              "[<matplotlib.lines.Line2D at 0x7f1428e05a90>]"
            ]
          },
          "metadata": {
            "tags": []
          },
          "execution_count": 18
        },
        {
          "output_type": "display_data",
          "data": {
            "image/png": "[encoded data removed]",
            "text/plain": [
              "<Figure size 432x288 with 1 Axes>"
            ]
          },
          "metadata": {
            "tags": []
          }
        }
      ]
    },
    {
      "cell_type": "code",
      "metadata": {
        "colab_type": "code",
        "id": "M6wai0MeiGVG",
        "colab": {
          "base_uri": "https://localhost:8080/",
          "height": 1000
        },
        "outputId": "ce6ba55e-2cff-4e31-938e-1703f8ae0f50"
      },
      "source": [
        "env = GridEnvironment()\n",
        "\n",
        "obs = env.reset()\n",
        "done = False\n",
        "agent.epsilon = 0\n",
        "env.render()\n",
        "plt.show()\n",
        "\n",
        "while not done:\n",
        "    action = agent.step(obs)\n",
        "    obs, reward, done, info = env.step(action)\n",
        "    env.render()\n",
        "    plt.show()"
      ],
      "execution_count": 19,
      "outputs": [
        {
          "output_type": "display_data",
          "data": {
            "image/png": "[encoded data removed]",
            "text/plain": [
              "<Figure size 432x288 with 1 Axes>"
            ]
          },
          "metadata": {
            "tags": []
          }
        },
        {
          "output_type": "display_data",
          "data": {
            "image/png": "[encoded data removed]",
            "text/plain": [
              "<Figure size 432x288 with 1 Axes>"
            ]
          },
          "metadata": {
            "tags": []
          }
        },
        {
          "output_type": "display_data",
          "data": {
            "image/png": "[encoded data removed]",
            "text/plain": [
              "<Figure size 432x288 with 1 Axes>"
            ]
          },
          "metadata": {
            "tags": []
          }
        },
        {
          "output_type": "display_data",
          "data": {
            "image/png": "[encoded data removed]",
            "text/plain": [
              "<Figure size 432x288 with 1 Axes>"
            ]
          },
          "metadata": {
            "tags": []
          }
        },
        {
          "output_type": "display_data",
          "data": {
            "image/png": "[encoded data removed]",
            "text/plain": [
              "<Figure size 432x288 with 1 Axes>"
            ]
          },
          "metadata": {
            "tags": []
          }
        },
        {
          "output_type": "display_data",
          "data": {
            "image/png": "[encoded data removed]",
            "text/plain": [
              "<Figure size 432x288 with 1 Axes>"
            ]
          },
          "metadata": {
            "tags": []
          }
        },
        {
          "output_type": "display_data",
          "data": {
            "image/png": "[encoded data removed]",
            "text/plain": [
              "<Figure size 432x288 with 1 Axes>"
            ]
          },
          "metadata": {
            "tags": []
          }
        },
        {
          "output_type": "display_data",
          "data": {
            "image/png": "[encoded data removed]",
            "text/plain": [
              "<Figure size 432x288 with 1 Axes>"
            ]
          },
          "metadata": {
            "tags": []
          }
        },
        {
          "output_type": "display_data",
          "data": {
            "image/png": "[encoded data removed]",
            "text/plain": [
              "<Figure size 432x288 with 1 Axes>"
            ]
          },
          "metadata": {
            "tags": []
          }
        }
      ]
    },
    {
      "cell_type": "code",
      "metadata": {
        "id": "3vx8ABqpejCS",
        "colab_type": "code",
        "colab": {
          "base_uri": "https://localhost:8080/",
          "height": 520
        },
        "outputId": "9609e729-7cde-4b4d-8dae-440fd8fdc471"
      },
      "source": [
        "agent.q_table"
      ],
      "execution_count": 20,
      "outputs": [
        {
          "output_type": "execute_result",
          "data": {
            "text/plain": [
              "array([[[ 3.0410248 , -9.5193502 ,  3.16405265, -9.45774142],\n",
              "        [ 3.04759119, -8.75122188,  2.40518606, -9.48492592],\n",
              "        [ 3.1404406 , -4.41733861,  1.5659052 , -9.05618089],\n",
              "        [ 2.65425352, -1.22478977,  0.6477682 , -4.7632226 ],\n",
              "        [ 1.35043255, -0.4900995 , -0.3940399 , -0.47381241]],\n",
              "\n",
              "       [[ 2.26690018, -9.42965757,  3.04105978, -7.52661314],\n",
              "        [ 2.27437506, -8.73009   ,  2.26478504, -7.68362904],\n",
              "        [ 2.33548645, -4.78741226,  1.39844606, -7.74786836],\n",
              "        [ 1.87924129, -1.83771493,  0.4051715 , -6.11630765],\n",
              "        [ 1.36412004, -0.78654981, -0.77255306, -1.6278349 ]],\n",
              "\n",
              "       [[ 1.39563775, -8.27240015,  3.08265952, -2.82269467],\n",
              "        [ 1.41457119, -8.54188405,  2.38857771, -3.36586575],\n",
              "        [ 1.45932904, -5.21612553,  1.55185003, -3.88307179],\n",
              "        [ 0.63031548, -2.24090458,  0.62262459, -3.47813969],\n",
              "        [ 1.64299221, -0.56018818, -0.3940399 , -1.48189362]],\n",
              "\n",
              "       [[ 0.37172743, -3.94825503,  2.42286104, -1.73831376],\n",
              "        [ 0.45460272, -6.26866608,  1.77302537, -2.29959991],\n",
              "        [ 0.47346355, -5.36639205,  0.66641653, -2.8804319 ],\n",
              "        [-0.47513775, -2.7907247 , -0.47158313, -3.19077544],\n",
              "        [ 0.96566316, -0.91131078, -1.73831376, -1.27783919]],\n",
              "\n",
              "       [[-0.95617925, -1.05014704,  1.20986412, -1.22478977],\n",
              "        [-0.77255306, -1.11667772,  1.88907235, -0.91739304],\n",
              "        [-0.77255306, -0.73806186,  1.82172163, -0.75785944],\n",
              "        [-1.73831376, -1.76384321,  0.99800332, -0.9571733 ],\n",
              "        [ 0.        ,  0.        ,  0.        ,  0.        ]]])"
            ]
          },
          "metadata": {
            "tags": []
          },
          "execution_count": 20
        }
      ]
    }
  ]
}